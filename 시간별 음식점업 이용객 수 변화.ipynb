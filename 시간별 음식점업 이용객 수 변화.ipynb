{
 "cells": [
  {
   "cell_type": "code",
   "execution_count": 2,
   "metadata": {},
   "outputs": [],
   "source": [
    "#자영업자 폐업율, 자영업자 현황\n",
    "\n",
    "import pandas as pd\n",
    "import numpy as np\n",
    "from matplotlib import pyplot as plt"
   ]
  },
  {
   "cell_type": "code",
   "execution_count": 19,
   "metadata": {},
   "outputs": [
    {
     "data": {
      "text/html": [
       "<div>\n",
       "<style scoped>\n",
       "    .dataframe tbody tr th:only-of-type {\n",
       "        vertical-align: middle;\n",
       "    }\n",
       "\n",
       "    .dataframe tbody tr th {\n",
       "        vertical-align: top;\n",
       "    }\n",
       "\n",
       "    .dataframe thead th {\n",
       "        text-align: right;\n",
       "    }\n",
       "</style>\n",
       "<table border=\"1\" class=\"dataframe\">\n",
       "  <thead>\n",
       "    <tr style=\"text-align: right;\">\n",
       "      <th></th>\n",
       "      <th>총사업자총계</th>\n",
       "      <th>총사업자신규</th>\n",
       "      <th>총사업자폐업</th>\n",
       "      <th>음식점업총계</th>\n",
       "      <th>음식점업신규</th>\n",
       "      <th>음식점업폐업</th>\n",
       "    </tr>\n",
       "  </thead>\n",
       "  <tbody>\n",
       "    <tr>\n",
       "      <th>0</th>\n",
       "      <td>7673637</td>\n",
       "      <td>1372895</td>\n",
       "      <td>900551</td>\n",
       "      <td>736264</td>\n",
       "      <td>178582</td>\n",
       "      <td>161899</td>\n",
       "    </tr>\n",
       "  </tbody>\n",
       "</table>\n",
       "</div>"
      ],
      "text/plain": [
       "    총사업자총계   총사업자신규  총사업자폐업  음식점업총계  음식점업신규  음식점업폐업\n",
       "0  7673637  1372895  900551  736264  178582  161899"
      ]
     },
     "execution_count": 19,
     "metadata": {},
     "output_type": "execute_result"
    }
   ],
   "source": [
    "#2018년 12월 31일까지의 데이터 \n",
    "\n",
    "num_business_man_2018 = pd.read_excel(\"/Users/tacoyakii/Google 드라이브/대학교/학교/빅데이터/개인조사 데이터/2018 사업자현황(전체, 임식점업).xlsx\", sheet_name = 'Sheet1')\n",
    "num_business_man_2018.head()"
   ]
  },
  {
   "cell_type": "code",
   "execution_count": 5,
   "metadata": {},
   "outputs": [
    {
     "data": {
      "text/html": [
       "<div>\n",
       "<style scoped>\n",
       "    .dataframe tbody tr th:only-of-type {\n",
       "        vertical-align: middle;\n",
       "    }\n",
       "\n",
       "    .dataframe tbody tr th {\n",
       "        vertical-align: top;\n",
       "    }\n",
       "\n",
       "    .dataframe thead th {\n",
       "        text-align: right;\n",
       "    }\n",
       "</style>\n",
       "<table border=\"1\" class=\"dataframe\">\n",
       "  <thead>\n",
       "    <tr style=\"text-align: right;\">\n",
       "      <th></th>\n",
       "      <th>총사업자총계</th>\n",
       "      <th>총사업자신규</th>\n",
       "      <th>총사업자폐업</th>\n",
       "      <th>음식점업총계</th>\n",
       "      <th>음식점업신규</th>\n",
       "      <th>음식점업폐업</th>\n",
       "    </tr>\n",
       "  </thead>\n",
       "  <tbody>\n",
       "    <tr>\n",
       "      <th>0</th>\n",
       "      <td>7226329</td>\n",
       "      <td>1284589</td>\n",
       "      <td>908076</td>\n",
       "      <td>721979</td>\n",
       "      <td>181304</td>\n",
       "      <td>166751</td>\n",
       "    </tr>\n",
       "  </tbody>\n",
       "</table>\n",
       "</div>"
      ],
      "text/plain": [
       "    총사업자총계   총사업자신규  총사업자폐업  음식점업총계  음식점업신규  음식점업폐업\n",
       "0  7226329  1284589  908076  721979  181304  166751"
      ]
     },
     "execution_count": 5,
     "metadata": {},
     "output_type": "execute_result"
    }
   ],
   "source": [
    "#자영업자 사업자 현황, 개인사업자가 법인 사업자보다 월등히 많다. \n",
    "#2017년 12월 31일까지의 데이터 \n",
    "\n",
    "num_business_man_2017 = pd.read_excel(\"/Users/tacoyakii/Google 드라이브/대학교/학교/빅데이터/개인조사 데이터/2017 사업자현황(전체, 음식점업).xlsx\", sheet_name='Sheet1')\n",
    "num_business_man_2017.head()"
   ]
  },
  {
   "cell_type": "code",
   "execution_count": 22,
   "metadata": {},
   "outputs": [
    {
     "data": {
      "text/html": [
       "<div>\n",
       "<style scoped>\n",
       "    .dataframe tbody tr th:only-of-type {\n",
       "        vertical-align: middle;\n",
       "    }\n",
       "\n",
       "    .dataframe tbody tr th {\n",
       "        vertical-align: top;\n",
       "    }\n",
       "\n",
       "    .dataframe thead th {\n",
       "        text-align: right;\n",
       "    }\n",
       "</style>\n",
       "<table border=\"1\" class=\"dataframe\">\n",
       "  <thead>\n",
       "    <tr style=\"text-align: right;\">\n",
       "      <th></th>\n",
       "      <th>총사업자총계</th>\n",
       "      <th>총사업자신규</th>\n",
       "      <th>총사업자폐업</th>\n",
       "      <th>음식점업총계</th>\n",
       "      <th>음식점업신규</th>\n",
       "      <th>음식점업폐업</th>\n",
       "    </tr>\n",
       "  </thead>\n",
       "  <tbody>\n",
       "    <tr>\n",
       "      <th>0</th>\n",
       "      <td>6886938</td>\n",
       "      <td>1226443</td>\n",
       "      <td>909202</td>\n",
       "      <td>711299</td>\n",
       "      <td>187837</td>\n",
       "      <td>169164</td>\n",
       "    </tr>\n",
       "  </tbody>\n",
       "</table>\n",
       "</div>"
      ],
      "text/plain": [
       "    총사업자총계   총사업자신규  총사업자폐업  음식점업총계  음식점업신규  음식점업폐업\n",
       "0  6886938  1226443  909202  711299  187837  169164"
      ]
     },
     "execution_count": 22,
     "metadata": {},
     "output_type": "execute_result"
    }
   ],
   "source": [
    "#2016년 12월 31일까지의 데이터 \n",
    "\n",
    "num_business_man_2016 = pd.read_excel(\"/Users/tacoyakii/Google 드라이브/대학교/학교/빅데이터/개인조사 데이터/2016 사업자현황(전체, 음식점업).xlsx\", sheet_name = 'Sheet1')\n",
    "num_business_man_2016.head()"
   ]
  },
  {
   "cell_type": "code",
   "execution_count": 7,
   "metadata": {},
   "outputs": [
    {
     "data": {
      "text/html": [
       "<div>\n",
       "<style scoped>\n",
       "    .dataframe tbody tr th:only-of-type {\n",
       "        vertical-align: middle;\n",
       "    }\n",
       "\n",
       "    .dataframe tbody tr th {\n",
       "        vertical-align: top;\n",
       "    }\n",
       "\n",
       "    .dataframe thead th {\n",
       "        text-align: right;\n",
       "    }\n",
       "</style>\n",
       "<table border=\"1\" class=\"dataframe\">\n",
       "  <thead>\n",
       "    <tr style=\"text-align: right;\">\n",
       "      <th></th>\n",
       "      <th>총사업자총계</th>\n",
       "      <th>총사업자신규</th>\n",
       "      <th>총사업자폐업</th>\n",
       "      <th>음식점업총계</th>\n",
       "      <th>음식점업신규</th>\n",
       "      <th>음식점업폐업</th>\n",
       "    </tr>\n",
       "  </thead>\n",
       "  <tbody>\n",
       "    <tr>\n",
       "      <th>0</th>\n",
       "      <td>6701456</td>\n",
       "      <td>1191009</td>\n",
       "      <td>790050</td>\n",
       "      <td>707801</td>\n",
       "      <td>186922</td>\n",
       "      <td>155172</td>\n",
       "    </tr>\n",
       "  </tbody>\n",
       "</table>\n",
       "</div>"
      ],
      "text/plain": [
       "    총사업자총계   총사업자신규  총사업자폐업  음식점업총계  음식점업신규  음식점업폐업\n",
       "0  6701456  1191009  790050  707801  186922  155172"
      ]
     },
     "execution_count": 7,
     "metadata": {},
     "output_type": "execute_result"
    }
   ],
   "source": [
    "#2015년 12월 31일까지의 데이터 \n",
    "\n",
    "num_business_man_2015 = pd.read_excel(\"/Users/tacoyakii/Google 드라이브/대학교/학교/빅데이터/개인조사 데이터/2015 사업자현황(전체, 음식점업).xlsx\", sheet_name = 'Sheet1')\n",
    "num_business_man_2015.head()"
   ]
  },
  {
   "cell_type": "code",
   "execution_count": 33,
   "metadata": {},
   "outputs": [
    {
     "data": {
      "image/png": "[encoded data removed]",
      "text/plain": [
       "<Figure size 432x288 with 1 Axes>"
      ]
     },
     "metadata": {
      "needs_background": "light"
     },
     "output_type": "display_data"
    }
   ],
   "source": [
    "#대한민국 총 사업자 총계\n",
    "num_business_man = [num_business_man_2015[\"총사업자총계\"], num_business_man_2016[\"총사업자총계\"], num_business_man_2017[\"총사업자총계\"], num_business_man_2018[\"총사업자총계\"]]\n",
    "year = [2015, 2016, 2017, 2018]\n",
    "\n",
    "plt.plot(year, num_business_man) \n",
    "plt.xticks(year)\n",
    "plt.xlabel(\"Year\")\n",
    "plt.ylabel(\"Numer of Business Man\")\n",
    "plt.title(\"Difference of Business Man\")\n",
    "plt.show()"
   ]
  },
  {
   "cell_type": "code",
   "execution_count": 32,
   "metadata": {},
   "outputs": [
    {
     "data": {
      "image/png": "[encoded data removed]",
      "text/plain": [
       "<Figure size 432x288 with 1 Axes>"
      ]
     },
     "metadata": {
      "needs_background": "light"
     },
     "output_type": "display_data"
    }
   ],
   "source": [
    "#음식점업 총 사업자 변화\n",
    "num_business_man_food = [num_business_man_2015['음식점업총계'], num_business_man_2016['음식점업총계'], num_business_man_2017['음식점업총계'], num_business_man_2018['음식점업총계']]\n",
    "\n",
    "plt.plot(year, num_business_man_food)\n",
    "plt.xticks(year)\n",
    "plt.xlabel(\"Year\")\n",
    "plt.ylabel(\"Number Of Business Man\")\n",
    "plt.title(\"Difference of Business Man(Food Store)\")\n",
    "plt.show()"
   ]
  },
  {
   "cell_type": "code",
   "execution_count": null,
   "metadata": {},
   "outputs": [],
   "source": []
  },
  {
   "cell_type": "code",
   "execution_count": null,
   "metadata": {},
   "outputs": [],
   "source": []
  }
 ],
 "metadata": {
  "kernelspec": {
   "display_name": "Python 3",
   "language": "python",
   "name": "python3"
  },
  "language_info": {
   "codemirror_mode": {
    "name": "ipython",
    "version": 3
   },
   "file_extension": ".py",
   "mimetype": "text/x-python",
   "name": "python",
   "nbconvert_exporter": "python",
   "pygments_lexer": "ipython3",
   "version": "3.7.3"
  }
 },
 "nbformat": 4,
 "nbformat_minor": 2
}
