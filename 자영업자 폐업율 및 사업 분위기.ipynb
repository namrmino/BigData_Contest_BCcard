{
 "cells": [
  {
   "cell_type": "code",
   "execution_count": 75,
   "metadata": {},
   "outputs": [],
   "source": [
    "import pandas as pd\n",
    "import numpy as np\n",
    "from matplotlib import pyplot as plt"
   ]
  },
  {
   "cell_type": "code",
   "execution_count": 61,
   "metadata": {},
   "outputs": [
    {
     "data": {
      "text/html": [
       "<div>\n",
       "<style scoped>\n",
       "    .dataframe tbody tr th:only-of-type {\n",
       "        vertical-align: middle;\n",
       "    }\n",
       "\n",
       "    .dataframe tbody tr th {\n",
       "        vertical-align: top;\n",
       "    }\n",
       "\n",
       "    .dataframe thead th {\n",
       "        text-align: right;\n",
       "    }\n",
       "</style>\n",
       "<table border=\"1\" class=\"dataframe\">\n",
       "  <thead>\n",
       "    <tr style=\"text-align: right;\">\n",
       "      <th></th>\n",
       "      <th>activity_date</th>\n",
       "      <th>activity_hour</th>\n",
       "      <th>lat</th>\n",
       "      <th>long</th>\n",
       "      <th>activity_count</th>\n",
       "    </tr>\n",
       "  </thead>\n",
       "  <tbody>\n",
       "    <tr>\n",
       "      <th>0</th>\n",
       "      <td>20190602.0</td>\n",
       "      <td>0</td>\n",
       "      <td>37.5</td>\n",
       "      <td>126.929</td>\n",
       "      <td>31</td>\n",
       "    </tr>\n",
       "    <tr>\n",
       "      <th>1</th>\n",
       "      <td>20190602.0</td>\n",
       "      <td>0</td>\n",
       "      <td>37.5</td>\n",
       "      <td>126.940</td>\n",
       "      <td>44</td>\n",
       "    </tr>\n",
       "    <tr>\n",
       "      <th>2</th>\n",
       "      <td>20190602.0</td>\n",
       "      <td>0</td>\n",
       "      <td>37.5</td>\n",
       "      <td>126.977</td>\n",
       "      <td>3</td>\n",
       "    </tr>\n",
       "    <tr>\n",
       "      <th>3</th>\n",
       "      <td>20190602.0</td>\n",
       "      <td>0</td>\n",
       "      <td>37.5</td>\n",
       "      <td>126.990</td>\n",
       "      <td>19</td>\n",
       "    </tr>\n",
       "    <tr>\n",
       "      <th>4</th>\n",
       "      <td>20190602.0</td>\n",
       "      <td>0</td>\n",
       "      <td>37.5</td>\n",
       "      <td>126.994</td>\n",
       "      <td>2</td>\n",
       "    </tr>\n",
       "  </tbody>\n",
       "</table>\n",
       "</div>"
      ],
      "text/plain": [
       "   activity_date  activity_hour   lat     long  activity_count\n",
       "0     20190602.0              0  37.5  126.929              31\n",
       "1     20190602.0              0  37.5  126.940              44\n",
       "2     20190602.0              0  37.5  126.977               3\n",
       "3     20190602.0              0  37.5  126.990              19\n",
       "4     20190602.0              0  37.5  126.994               2"
      ]
     },
     "execution_count": 61,
     "metadata": {},
     "output_type": "execute_result"
    }
   ],
   "source": [
    "whole_data = pd.read_excel(\"/Users/tacoyakii/Google 드라이브/대학교/학교/빅데이터/금융빅데이터공모전_데이터/망고플레이트_사용자 밀집도.xlsx\", sheet_name= '데이터')\n",
    "whole_data.head()"
   ]
  },
  {
   "cell_type": "code",
   "execution_count": 77,
   "metadata": {},
   "outputs": [
    {
     "name": "stdout",
     "output_type": "stream",
     "text": [
      "{0: 811783, 1: 554216, 2: 306543, 3: 169557, 4: 97912, 5: 71800, 6: 108253, 7: 213777, 8: 402570, 9: 651379, 10: 1070046, 11: 1598703, 12: 1757957, 13: 1532209, 14: 1391415, 15: 1561415, 16: 1928734, 17: 2495263, 18: 2702364, 19: 2085066, 20: 1384586, 21: 1067534, 22: 1015701, 23: 979552}\n"
     ]
    }
   ],
   "source": [
    "activity_hour_data = whole_data[\"activity_hour\"]\n",
    "activity_count_data = whole_data[\"activity_count\"]\n",
    "\n",
    "index_counter = 0\n",
    "people_count = {}\n",
    "\n",
    "n = 0\n",
    "\n",
    "for i in range(0, 24):\n",
    "    people_count[i] = 0\n",
    "\n",
    "\n",
    "for i in activity_hour_data:\n",
    "    people_count[i] += activity_count_data[n]\n",
    "    n += 1\n",
    "\n",
    "print(people_count)"
   ]
  },
  {
   "cell_type": "code",
   "execution_count": 82,
   "metadata": {},
   "outputs": [
    {
     "data": {
      "text/plain": [
       "<function matplotlib.pyplot.show(*args, **kw)>"
      ]
     },
     "execution_count": 82,
     "metadata": {},
     "output_type": "execute_result"
    },
    {
     "data": {
      "image/png": "[encoded data removed]",
      "text/plain": [
       "<Figure size 432x288 with 1 Axes>"
      ]
     },
     "metadata": {
      "needs_background": "light"
     },
     "output_type": "display_data"
    }
   ],
   "source": [
    "time = []\n",
    "num_customer = []\n",
    "\n",
    "for i in people_count.keys():\n",
    "    time.append(i)\n",
    "for i in people_count.values():\n",
    "    num_customer.append(i)\n",
    "\n",
    "\n",
    "\n",
    "plt.plot(time, num_customer)\n",
    "plt.xticks(time)\n",
    "\n",
    "plt.xlabel('Time')\n",
    "plt.ylabel('Number of Customers')\n",
    "\n",
    "plt.show"
   ]
  },
  {
   "cell_type": "code",
   "execution_count": 83,
   "metadata": {},
   "outputs": [
    {
     "data": {
      "text/html": [
       "<div>\n",
       "<style scoped>\n",
       "    .dataframe tbody tr th:only-of-type {\n",
       "        vertical-align: middle;\n",
       "    }\n",
       "\n",
       "    .dataframe tbody tr th {\n",
       "        vertical-align: top;\n",
       "    }\n",
       "\n",
       "    .dataframe thead th {\n",
       "        text-align: right;\n",
       "    }\n",
       "</style>\n",
       "<table border=\"1\" class=\"dataframe\">\n",
       "  <thead>\n",
       "    <tr style=\"text-align: right;\">\n",
       "      <th></th>\n",
       "      <th>restaurant_name</th>\n",
       "      <th>restaurant_branch_name</th>\n",
       "      <th>address</th>\n",
       "      <th>latitude</th>\n",
       "      <th>longitude</th>\n",
       "      <th>price_range_code</th>\n",
       "      <th>parking_option_code</th>\n",
       "      <th>business_hour</th>\n",
       "      <th>day_off</th>\n",
       "      <th>menu_text</th>\n",
       "      <th>rating</th>\n",
       "      <th>review_count</th>\n",
       "    </tr>\n",
       "  </thead>\n",
       "  <tbody>\n",
       "    <tr>\n",
       "      <th>0</th>\n",
       "      <td>필동족발</td>\n",
       "      <td>NaN</td>\n",
       "      <td>서울시 중구 필동3가</td>\n",
       "      <td>37.558918</td>\n",
       "      <td>126.996288</td>\n",
       "      <td>3</td>\n",
       "      <td>3</td>\n",
       "      <td>월-금: 12:00 - 24:00 토-일: 12:00 - 22:00</td>\n",
       "      <td>NaN</td>\n",
       "      <td>족발 전문점</td>\n",
       "      <td>NaN</td>\n",
       "      <td>7</td>\n",
       "    </tr>\n",
       "    <tr>\n",
       "      <th>1</th>\n",
       "      <td>에꼴드 크루아상</td>\n",
       "      <td>NaN</td>\n",
       "      <td>서울시 중구 신당동</td>\n",
       "      <td>37.553423</td>\n",
       "      <td>127.009400</td>\n",
       "      <td>1</td>\n",
       "      <td>-1</td>\n",
       "      <td>NaN</td>\n",
       "      <td>NaN</td>\n",
       "      <td>크로와상 전문점</td>\n",
       "      <td>NaN</td>\n",
       "      <td>3</td>\n",
       "    </tr>\n",
       "    <tr>\n",
       "      <th>2</th>\n",
       "      <td>오고또포차</td>\n",
       "      <td>NaN</td>\n",
       "      <td>서울시 종로구 관철동</td>\n",
       "      <td>37.568631</td>\n",
       "      <td>126.988527</td>\n",
       "      <td>2</td>\n",
       "      <td>3</td>\n",
       "      <td>16:00 - 24:00</td>\n",
       "      <td>일</td>\n",
       "      <td>포장마차형 주점</td>\n",
       "      <td>NaN</td>\n",
       "      <td>1</td>\n",
       "    </tr>\n",
       "    <tr>\n",
       "      <th>3</th>\n",
       "      <td>학술적연구소</td>\n",
       "      <td>NaN</td>\n",
       "      <td>서울시 종로구 숭인동</td>\n",
       "      <td>37.576306</td>\n",
       "      <td>127.022494</td>\n",
       "      <td>2</td>\n",
       "      <td>3</td>\n",
       "      <td>18:00 - 01:00</td>\n",
       "      <td>일</td>\n",
       "      <td>전통 / 민속 주점</td>\n",
       "      <td>3.9</td>\n",
       "      <td>11</td>\n",
       "    </tr>\n",
       "    <tr>\n",
       "      <th>4</th>\n",
       "      <td>두르가</td>\n",
       "      <td>무교점</td>\n",
       "      <td>서울시 중구 무교동</td>\n",
       "      <td>37.567651</td>\n",
       "      <td>126.979104</td>\n",
       "      <td>4</td>\n",
       "      <td>-1</td>\n",
       "      <td>11:00 - 22:30</td>\n",
       "      <td>NaN</td>\n",
       "      <td>NaN</td>\n",
       "      <td>NaN</td>\n",
       "      <td>2</td>\n",
       "    </tr>\n",
       "  </tbody>\n",
       "</table>\n",
       "</div>"
      ],
      "text/plain": [
       "  restaurant_name restaurant_branch_name       address   latitude   longitude  \\\n",
       "0            필동족발                    NaN  서울시 중구 필동3가   37.558918  126.996288   \n",
       "1        에꼴드 크루아상                    NaN    서울시 중구 신당동  37.553423  127.009400   \n",
       "2           오고또포차                    NaN  서울시 종로구 관철동   37.568631  126.988527   \n",
       "3          학술적연구소                    NaN  서울시 종로구 숭인동   37.576306  127.022494   \n",
       "4             두르가                    무교점    서울시 중구 무교동  37.567651  126.979104   \n",
       "\n",
       "   price_range_code  parking_option_code  \\\n",
       "0                 3                    3   \n",
       "1                 1                   -1   \n",
       "2                 2                    3   \n",
       "3                 2                    3   \n",
       "4                 4                   -1   \n",
       "\n",
       "                           business_hour day_off   menu_text  rating  \\\n",
       "0  월-금: 12:00 - 24:00 토-일: 12:00 - 22:00     NaN      족발 전문점     NaN   \n",
       "1                                    NaN     NaN    크로와상 전문점     NaN   \n",
       "2                          16:00 - 24:00       일    포장마차형 주점     NaN   \n",
       "3                          18:00 - 01:00       일  전통 / 민속 주점     3.9   \n",
       "4                          11:00 - 22:30     NaN         NaN     NaN   \n",
       "\n",
       "   review_count  \n",
       "0             7  \n",
       "1             3  \n",
       "2             1  \n",
       "3            11  \n",
       "4             2  "
      ]
     },
     "execution_count": 83,
     "metadata": {},
     "output_type": "execute_result"
    }
   ],
   "source": [
    "franchisee_info  = pd.read_excel(\"/Users/tacoyakii/Google 드라이브/대학교/학교/빅데이터/금융빅데이터공모전_데이터/망고플레이트_가맹점 정보.xlsx\", sheet_name=\"데이터\")\n",
    "franchisee_info.head()"
   ]
  },
  {
   "cell_type": "code",
   "execution_count": 92,
   "metadata": {},
   "outputs": [
    {
     "name": "stdout",
     "output_type": "stream",
     "text": [
      "37.699 37.5\n",
      "127.099 126.9\n"
     ]
    }
   ],
   "source": [
    "lat = []\n",
    "long = []\n",
    "for i in whole_data[\"lat\"]:\n",
    "    lat.append(i)\n",
    "for i in whole_data[\"long\"]:\n",
    "    long.append(i)\n",
    "    \n",
    "    \n",
    "print(max(lat), min(lat))\n",
    "print(max(long), min(long))"
   ]
  },
  {
   "cell_type": "code",
   "execution_count": null,
   "metadata": {},
   "outputs": [],
   "source": [
    "37.699, "
   ]
  }
 ],
 "metadata": {
  "kernelspec": {
   "display_name": "Python 3",
   "language": "python",
   "name": "python3"
  },
  "language_info": {
   "codemirror_mode": {
    "name": "ipython",
    "version": 3
   },
   "file_extension": ".py",
   "mimetype": "text/x-python",
   "name": "python",
   "nbconvert_exporter": "python",
   "pygments_lexer": "ipython3",
   "version": "3.7.3"
  }
 },
 "nbformat": 4,
 "nbformat_minor": 2
}
